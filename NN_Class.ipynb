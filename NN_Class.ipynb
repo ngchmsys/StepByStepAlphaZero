{
  "nbformat": 4,
  "nbformat_minor": 0,
  "metadata": {
    "colab": {
      "name": "NN_Class.ipynb",
      "provenance": [],
      "collapsed_sections": []
    },
    "kernelspec": {
      "name": "python3",
      "display_name": "Python 3"
    }
  },
  "cells": [
    {
      "cell_type": "markdown",
      "metadata": {
        "id": "mAb7M5T77t8f",
        "colab_type": "text"
      },
      "source": [
        "# AlphaZero\n",
        "深層学習・強化学習・探索\n",
        "# 人工知能プログラミング実践入門"
      ]
    },
    {
      "cell_type": "markdown",
      "metadata": {
        "id": "Bppp71GjBVgh",
        "colab_type": "text"
      },
      "source": [
        "# ニューラルネットワーク"
      ]
    },
    {
      "cell_type": "markdown",
      "metadata": {
        "id": "49uaDWpP_Mka",
        "colab_type": "text"
      },
      "source": [
        "## ニューラルネットワークで分類"
      ]
    },
    {
      "cell_type": "markdown",
      "metadata": {
        "id": "aYiK-DqWEl1J",
        "colab_type": "text"
      },
      "source": [
        "### パッケージのインポート"
      ]
    },
    {
      "cell_type": "code",
      "metadata": {
        "id": "PTq0_6Ki-PUA",
        "colab_type": "code",
        "colab": {}
      },
      "source": [
        "from tensorflow.keras.datasets import mnist\n",
        "from tensorflow.keras.layers import Activation, Dense, Dropout\n",
        "from tensorflow.keras.models import Sequential\n",
        "from tensorflow.keras.optimizers import SGD\n",
        "from tensorflow.keras.utils import to_categorical\n",
        "import numpy as np\n",
        "import matplotlib.pyplot as plt\n",
        "%matplotlib inline"
      ],
      "execution_count": 0,
      "outputs": []
    },
    {
      "cell_type": "markdown",
      "metadata": {
        "id": "_Bb2um9jEcwZ",
        "colab_type": "text"
      },
      "source": [
        "### データの読み込み\n",
        "mnist"
      ]
    },
    {
      "cell_type": "code",
      "metadata": {
        "id": "Yafdb6JMCilB",
        "colab_type": "code",
        "colab": {}
      },
      "source": [
        "(train_images, train_labels), (test_images, test_labels) = mnist.load_data()"
      ],
      "execution_count": 0,
      "outputs": []
    },
    {
      "cell_type": "markdown",
      "metadata": {
        "id": "wdKPIv4TEsuq",
        "colab_type": "text"
      },
      "source": [
        "### 読み込みデータのシェイプ表示"
      ]
    },
    {
      "cell_type": "code",
      "metadata": {
        "id": "G0UOkbGAC_N5",
        "colab_type": "code",
        "outputId": "bb2f0c47-37fc-4ff3-90fe-bac81b430260",
        "colab": {
          "base_uri": "https://localhost:8080/",
          "height": 85
        }
      },
      "source": [
        "print(train_images.shape)\n",
        "print(train_labels.shape)\n",
        "print(test_images.shape)\n",
        "print(test_labels.shape)"
      ],
      "execution_count": 3,
      "outputs": [
        {
          "output_type": "stream",
          "text": [
            "(60000, 28, 28)\n",
            "(60000,)\n",
            "(10000, 28, 28)\n",
            "(10000,)\n"
          ],
          "name": "stdout"
        }
      ]
    },
    {
      "cell_type": "markdown",
      "metadata": {
        "id": "5TMqbJtcE1km",
        "colab_type": "text"
      },
      "source": [
        "### データセットの確認\n",
        "画像データ"
      ]
    },
    {
      "cell_type": "code",
      "metadata": {
        "id": "JNoImYtrESmq",
        "colab_type": "code",
        "outputId": "b2ccf76b-c0ee-4099-c17f-02cc557959b2",
        "colab": {
          "base_uri": "https://localhost:8080/",
          "height": 80
        }
      },
      "source": [
        "NUMS = 10\n",
        "for i in range(NUMS):\n",
        "    plt.subplot(1, NUMS, i+1)\n",
        "    plt.imshow(train_images[i], 'gray')\n",
        "plt.show()"
      ],
      "execution_count": 4,
      "outputs": [
        {
          "output_type": "display_data",
          "data": {
            "image/png": "[encoded data removed]",
            "text/plain": [
              "<Figure size 432x288 with 10 Axes>"
            ]
          },
          "metadata": {
            "tags": [],
            "needs_background": "light"
          }
        }
      ]
    },
    {
      "cell_type": "markdown",
      "metadata": {
        "colab_type": "text",
        "id": "BxkBRMx5GRgF"
      },
      "source": [
        "### データセットの確認\n",
        "ラベルデータ"
      ]
    },
    {
      "cell_type": "code",
      "metadata": {
        "id": "f_O2hRpFGXM-",
        "colab_type": "code",
        "outputId": "da7050bc-bfe4-47da-a181-b6c2f7c3b9dd",
        "colab": {
          "base_uri": "https://localhost:8080/",
          "height": 34
        }
      },
      "source": [
        "print(train_labels[:NUMS])"
      ],
      "execution_count": 5,
      "outputs": [
        {
          "output_type": "stream",
          "text": [
            "[5 0 4 1 9 2 1 3 1 4]\n"
          ],
          "name": "stdout"
        }
      ]
    },
    {
      "cell_type": "markdown",
      "metadata": {
        "id": "ZtK4J7uMHa2c",
        "colab_type": "text"
      },
      "source": [
        "### 前処理\n",
        "リシェイプ: 28×28 → 784"
      ]
    },
    {
      "cell_type": "code",
      "metadata": {
        "id": "6_3sYKw9GnnA",
        "colab_type": "code",
        "outputId": "2580451d-974d-4c74-a032-4749d7e13774",
        "colab": {
          "base_uri": "https://localhost:8080/",
          "height": 51
        }
      },
      "source": [
        "train_images = train_images.reshape((train_images.shape[0], 784))\n",
        "test_images = test_images.reshape((test_images.shape[0], 784))\n",
        "\n",
        "print(train_images.shape)\n",
        "print(test_images.shape)"
      ],
      "execution_count": 6,
      "outputs": [
        {
          "output_type": "stream",
          "text": [
            "(60000, 784)\n",
            "(10000, 784)\n"
          ],
          "name": "stdout"
        }
      ]
    },
    {
      "cell_type": "markdown",
      "metadata": {
        "id": "wduLn_DbIDXO",
        "colab_type": "text"
      },
      "source": [
        "### 前処理\n",
        "ラベルのone-hot変換"
      ]
    },
    {
      "cell_type": "code",
      "metadata": {
        "id": "ctjNr7SlIBxN",
        "colab_type": "code",
        "outputId": "ba59fa6b-a93f-42cb-efe5-0d17a7ece93f",
        "colab": {
          "base_uri": "https://localhost:8080/",
          "height": 187
        }
      },
      "source": [
        "print('********** 変換前 **********')\n",
        "print(train_labels.shape)\n",
        "print(train_labels[0])\n",
        "print(test_labels.shape)\n",
        "print(test_labels[0])\n",
        "\n",
        "train_labels = to_categorical(train_labels)\n",
        "test_labels = to_categorical(test_labels)\n",
        "\n",
        "print('********** 変換後 **********')\n",
        "print(train_labels.shape)\n",
        "print(train_labels[0])\n",
        "print(test_labels.shape)\n",
        "print(test_labels[0])"
      ],
      "execution_count": 7,
      "outputs": [
        {
          "output_type": "stream",
          "text": [
            "********** 変換前 **********\n",
            "(60000,)\n",
            "5\n",
            "(10000,)\n",
            "7\n",
            "********** 変換後 **********\n",
            "(60000, 10)\n",
            "[0. 0. 0. 0. 0. 1. 0. 0. 0. 0.]\n",
            "(10000, 10)\n",
            "[0. 0. 0. 0. 0. 0. 0. 1. 0. 0.]\n"
          ],
          "name": "stdout"
        }
      ]
    },
    {
      "cell_type": "markdown",
      "metadata": {
        "id": "eyNMm7rA9Q54",
        "colab_type": "text"
      },
      "source": [
        "### モデルの作成\n",
        "\n",
        "モデルの作成 (P.78)\n",
        "\n",
        "　全結合(ユニット×256，シグモイド関数)\n",
        "\n",
        "　　↓\n",
        "\n",
        "　全結合(ユニット×128，シグモイド関数)\n",
        "\n",
        "　　↓\n",
        "\n",
        "　ドロップアウト\n",
        "\n",
        "　　↓\n",
        "\n",
        "　全結合(ユニット×10，ソフトマックス関数)"
      ]
    },
    {
      "cell_type": "code",
      "metadata": {
        "id": "6oXS_NOyIons",
        "colab_type": "code",
        "colab": {}
      },
      "source": [
        "model = Sequential()\n",
        "model.add(Dense(256, activation='sigmoid', input_shape=(784,)))\n",
        "model.add(Dense(128, activation='sigmoid'))\n",
        "# 活性化関数を分離した記述方法\n",
        "# model.add(Dense(128))\n",
        "# model.add(Activation('sigmoid'))\n",
        "model.add(Dropout(rate=0.5))\n",
        "model.add(Dense(10, activation='softmax'))"
      ],
      "execution_count": 0,
      "outputs": []
    },
    {
      "cell_type": "markdown",
      "metadata": {
        "id": "aouvKhOH_Pml",
        "colab_type": "text"
      },
      "source": [
        "## 活性化関数(Activation Function)"
      ]
    },
    {
      "cell_type": "markdown",
      "metadata": {
        "id": "snZA0DeY_pOH",
        "colab_type": "text"
      },
      "source": [
        "### シグモイド関数(sigmoid)\n",
        "\n",
        "\\begin{align}\n",
        "f(x) = \\frac{ 1 }{1 + exp(-x)}\n",
        "\\end{align}"
      ]
    },
    {
      "cell_type": "code",
      "metadata": {
        "id": "elJ5utMqAray",
        "colab_type": "code",
        "outputId": "4e6e096a-6a66-48e4-81de-5ebd085c4a49",
        "colab": {
          "base_uri": "https://localhost:8080/",
          "height": 265
        }
      },
      "source": [
        "def sigmoid(x):\n",
        "    return 1 / (1+np.exp(-x)) \n",
        "\n",
        "x = np.arange(-5.0, 5.0, 0.1)\n",
        "y = sigmoid(x)\n",
        "plt.plot(x, y)\n",
        "plt.ylim(-0.1, 1.1)\n",
        "plt.show()"
      ],
      "execution_count": 9,
      "outputs": [
        {
          "output_type": "display_data",
          "data": {
            "image/png": "[encoded data removed]",
            "text/plain": [
              "<Figure size 432x288 with 1 Axes>"
            ]
          },
          "metadata": {
            "tags": [],
            "needs_background": "light"
          }
        }
      ]
    },
    {
      "cell_type": "markdown",
      "metadata": {
        "id": "NVr-KinZCY_R",
        "colab_type": "text"
      },
      "source": [
        "### tanh関数(tanh)\n",
        "\n",
        "\\begin{align}\n",
        "f(x) = tanh(x)\n",
        "\\end{align}"
      ]
    },
    {
      "cell_type": "code",
      "metadata": {
        "id": "gNigBh3eC5Ch",
        "colab_type": "code",
        "outputId": "228b71c3-0772-417a-8ea7-dfa3710d5ee9",
        "colab": {
          "base_uri": "https://localhost:8080/",
          "height": 265
        }
      },
      "source": [
        "def tanh(x):\n",
        "    return np.tanh(x)\n",
        "\n",
        "x = np.arange(-5.0, 5.0, 0.1)\n",
        "y = tanh(x)\n",
        "plt.plot(x, y)\n",
        "plt.ylim(-1.1, 1.1)\n",
        "plt.show()"
      ],
      "execution_count": 10,
      "outputs": [
        {
          "output_type": "display_data",
          "data": {
            "image/png": "[encoded data removed]",
            "text/plain": [
              "<Figure size 432x288 with 1 Axes>"
            ]
          },
          "metadata": {
            "tags": [],
            "needs_background": "light"
          }
        }
      ]
    },
    {
      "cell_type": "markdown",
      "metadata": {
        "colab_type": "text",
        "id": "abuBBmiFEMtn"
      },
      "source": [
        "### 恒等関数(linear)\n",
        "\n",
        "\\begin{align}\n",
        "f(x) = x\n",
        "\\end{align}"
      ]
    },
    {
      "cell_type": "code",
      "metadata": {
        "id": "ySeuM2JNEhIv",
        "colab_type": "code",
        "outputId": "b361933e-05ed-41c6-8070-9c990424a44a",
        "colab": {
          "base_uri": "https://localhost:8080/",
          "height": 265
        }
      },
      "source": [
        "def linear(x):\n",
        "    return x\n",
        "\n",
        "x = np.arange(-1.0, 1.1, 0.1)\n",
        "y = linear(x)\n",
        "plt.plot(x, y)\n",
        "plt.ylim(-1.1, 1.1)\n",
        "plt.show()"
      ],
      "execution_count": 11,
      "outputs": [
        {
          "output_type": "display_data",
          "data": {
            "image/png": "[encoded data removed]",
            "text/plain": [
              "<Figure size 432x288 with 1 Axes>"
            ]
          },
          "metadata": {
            "tags": [],
            "needs_background": "light"
          }
        }
      ]
    },
    {
      "cell_type": "markdown",
      "metadata": {
        "colab_type": "text",
        "id": "DgZyeezhFKfl"
      },
      "source": [
        "### ReLU関数(relu)\n",
        "\n",
        "\\begin{align}\n",
        "f(x) = max(0, x)\n",
        "\\end{align}"
      ]
    },
    {
      "cell_type": "code",
      "metadata": {
        "id": "UwvydrSnFZum",
        "colab_type": "code",
        "outputId": "6eecbb53-5434-4d89-c93a-94c4c6b119d7",
        "colab": {
          "base_uri": "https://localhost:8080/",
          "height": 265
        }
      },
      "source": [
        "def relu(x):\n",
        "    return np.maximum(0, x)\n",
        "\n",
        "x = np.arange(-5.0, 5.0, 0.1)\n",
        "y = relu(x)\n",
        "plt.plot(x, y)\n",
        "plt.ylim(-0.5, 5.5)\n",
        "plt.show()"
      ],
      "execution_count": 12,
      "outputs": [
        {
          "output_type": "display_data",
          "data": {
            "image/png": "[encoded data removed]",
            "text/plain": [
              "<Figure size 432x288 with 1 Axes>"
            ]
          },
          "metadata": {
            "tags": [],
            "needs_background": "light"
          }
        }
      ]
    },
    {
      "cell_type": "markdown",
      "metadata": {
        "id": "ZRsl1hruxaSL",
        "colab_type": "text"
      },
      "source": [
        "## コンパイル"
      ]
    },
    {
      "cell_type": "markdown",
      "metadata": {
        "colab_type": "text",
        "id": "4e-dq44ztVcM"
      },
      "source": [
        "### 損失関数(Loss Function)"
      ]
    },
    {
      "cell_type": "markdown",
      "metadata": {
        "id": "kLY72BZAuFFz",
        "colab_type": "text"
      },
      "source": [
        "\n",
        "\n",
        "*   2クラス交差エントロピー誤差(binary_crossentropy)： **2値分類**\n",
        "*   多クラス交差エントロピー誤差(categorical_crossentropy)： **多値分類**\n",
        "*   平均二乗誤差(mse)： **回帰**\n",
        "\n"
      ]
    },
    {
      "cell_type": "markdown",
      "metadata": {
        "colab_type": "text",
        "id": "RvutdoQcu-A6"
      },
      "source": [
        "### 最適化関数(Optimizer)"
      ]
    },
    {
      "cell_type": "markdown",
      "metadata": {
        "id": "SM0qxmnkvJPb",
        "colab_type": "text"
      },
      "source": [
        "\n",
        "\n",
        "*   SGD\n",
        "*   Adam\n",
        "\n"
      ]
    },
    {
      "cell_type": "markdown",
      "metadata": {
        "colab_type": "text",
        "id": "VVgoI0bAvpli"
      },
      "source": [
        "### 評価指数(Evaluation Index)"
      ]
    },
    {
      "cell_type": "markdown",
      "metadata": {
        "id": "EQjs6KPwwAOr",
        "colab_type": "text"
      },
      "source": [
        "\n",
        "\n",
        "*   正解率(Accuracy)： **分類**(1に近いほうが良い)\n",
        "*   平均絶対誤差(Mean Absolute Error)： **回帰**(0に近いほうが良い)\n",
        "\n"
      ]
    },
    {
      "cell_type": "markdown",
      "metadata": {
        "colab_type": "text",
        "id": "qQYaIw0Sx1_z"
      },
      "source": [
        "### コンパイル"
      ]
    },
    {
      "cell_type": "code",
      "metadata": {
        "id": "nXfr8DHfw4md",
        "colab_type": "code",
        "colab": {}
      },
      "source": [
        "model.compile(loss='categorical_crossentropy', optimizer=SGD(lr=0.1), metrics=['acc'])"
      ],
      "execution_count": 0,
      "outputs": []
    },
    {
      "cell_type": "markdown",
      "metadata": {
        "colab_type": "text",
        "id": "8USz1AKsx-Xx"
      },
      "source": [
        "### 学習"
      ]
    },
    {
      "cell_type": "code",
      "metadata": {
        "id": "Of7KsLLlyCxu",
        "colab_type": "code",
        "colab": {
          "base_uri": "https://localhost:8080/",
          "height": 187
        },
        "outputId": "0d4f8499-861b-43fa-9f61-2938c3bc3e6c"
      },
      "source": [
        "\"\"\"fit\n",
        "    validation_split: 検証用データの割合\n",
        "\"\"\" \n",
        "history = model.fit(train_images, train_labels, batch_size=500, epochs=5, validation_split=0.2)"
      ],
      "execution_count": 14,
      "outputs": [
        {
          "output_type": "stream",
          "text": [
            "Epoch 1/5\n",
            "96/96 [==============================] - 2s 18ms/step - loss: 1.7017 - acc: 0.4483 - val_loss: 0.9942 - val_acc: 0.8267\n",
            "Epoch 2/5\n",
            "96/96 [==============================] - 1s 15ms/step - loss: 0.9364 - acc: 0.7403 - val_loss: 0.5896 - val_acc: 0.8790\n",
            "Epoch 3/5\n",
            "96/96 [==============================] - 1s 16ms/step - loss: 0.6736 - acc: 0.8154 - val_loss: 0.4441 - val_acc: 0.8978\n",
            "Epoch 4/5\n",
            "96/96 [==============================] - 1s 16ms/step - loss: 0.5482 - acc: 0.8502 - val_loss: 0.3731 - val_acc: 0.9073\n",
            "Epoch 5/5\n",
            "96/96 [==============================] - 2s 16ms/step - loss: 0.4776 - acc: 0.8690 - val_loss: 0.3332 - val_acc: 0.9120\n"
          ],
          "name": "stdout"
        }
      ]
    },
    {
      "cell_type": "code",
      "metadata": {
        "id": "Gz1kX-4_0MY3",
        "colab_type": "code",
        "colab": {
          "base_uri": "https://localhost:8080/",
          "height": 279
        },
        "outputId": "396d6754-f010-42ba-9b89-fbc869c1ed2a"
      },
      "source": [
        "plt.plot(history.history['acc'], label='acc')\n",
        "plt.plot(history.history['val_acc'], label='val_acc')\n",
        "plt.ylabel('accuracy')\n",
        "plt.xlabel('epoch')\n",
        "plt.legend(loc='best')\n",
        "plt.show()"
      ],
      "execution_count": 15,
      "outputs": [
        {
          "output_type": "display_data",
          "data": {
            "image/png": "[encoded data removed]",
            "text/plain": [
              "<Figure size 432x288 with 1 Axes>"
            ]
          },
          "metadata": {
            "tags": [],
            "needs_background": "light"
          }
        }
      ]
    },
    {
      "cell_type": "markdown",
      "metadata": {
        "colab_type": "text",
        "id": "wSmVIFvz2-my"
      },
      "source": [
        "### 評価"
      ]
    },
    {
      "cell_type": "code",
      "metadata": {
        "id": "ObA5M1ah3CyO",
        "colab_type": "code",
        "colab": {
          "base_uri": "https://localhost:8080/",
          "height": 51
        },
        "outputId": "97099ab9-0fa0-47fd-cd85-bffefc87c43e"
      },
      "source": [
        "test_loss, test_acc = model.evaluate(test_images, test_labels)\n",
        "print('loss: {:.1f}% , acc: {:.1f}%'.format(test_loss*100, test_acc*100))"
      ],
      "execution_count": 19,
      "outputs": [
        {
          "output_type": "stream",
          "text": [
            "313/313 [==============================] - 1s 2ms/step - loss: 0.3355 - acc: 0.9111\n",
            "loss: 33.5% , acc: 91.1%\n"
          ],
          "name": "stdout"
        }
      ]
    },
    {
      "cell_type": "markdown",
      "metadata": {
        "colab_type": "text",
        "id": "ZtM8PLKk55qq"
      },
      "source": [
        "## 推論"
      ]
    },
    {
      "cell_type": "code",
      "metadata": {
        "id": "WWrsySqk59zG",
        "colab_type": "code",
        "colab": {
          "base_uri": "https://localhost:8080/",
          "height": 250
        },
        "outputId": "d02637f7-af8d-4a5c-8613-7d813fec037b"
      },
      "source": [
        "for i in range(10):\n",
        "    plt.subplot(1, 10, i+1)\n",
        "    plt.imshow(test_images[i].reshape((28, 28)), 'gray')\n",
        "plt.show()\n",
        "\n",
        "test_predictions = model.predict(test_images[0:10])\n",
        "\n",
        "# argmax: 最大値のインデックスに変換\n",
        "test_answers = np.argmax(test_predictions, axis=1)\n",
        "\n",
        "for test_answer, test_predict in zip(test_answers, test_predictions):\n",
        "    print(f'Answer[ {test_answer} ]: ', end='')\n",
        "    for p in test_predict:\n",
        "        print(' {:.2f} '.format(p), end='')\n",
        "    print('')"
      ],
      "execution_count": 31,
      "outputs": [
        {
          "output_type": "display_data",
          "data": {
            "image/png": "[encoded data removed]",
            "text/plain": [
              "<Figure size 432x288 with 10 Axes>"
            ]
          },
          "metadata": {
            "tags": [],
            "needs_background": "light"
          }
        },
        {
          "output_type": "stream",
          "text": [
            "Answer[ 7 ]:  0.00  0.00  0.00  0.01  0.00  0.00  0.00  0.98  0.00  0.01 \n",
            "Answer[ 2 ]:  0.08  0.01  0.77  0.04  0.00  0.02  0.07  0.00  0.02  0.00 \n",
            "Answer[ 1 ]:  0.00  0.99  0.00  0.00  0.00  0.00  0.00  0.00  0.00  0.00 \n",
            "Answer[ 0 ]:  0.97  0.00  0.01  0.00  0.00  0.01  0.01  0.00  0.00  0.00 \n",
            "Answer[ 4 ]:  0.00  0.00  0.01  0.00  0.92  0.00  0.01  0.00  0.00  0.05 \n",
            "Answer[ 1 ]:  0.00  0.98  0.00  0.00  0.00  0.00  0.00  0.00  0.00  0.00 \n",
            "Answer[ 4 ]:  0.00  0.00  0.00  0.01  0.67  0.08  0.01  0.01  0.04  0.17 \n",
            "Answer[ 9 ]:  0.00  0.00  0.00  0.01  0.21  0.01  0.00  0.02  0.01  0.74 \n",
            "Answer[ 6 ]:  0.02  0.01  0.11  0.00  0.17  0.03  0.64  0.00  0.01  0.01 \n",
            "Answer[ 9 ]:  0.00  0.00  0.00  0.00  0.05  0.00  0.00  0.11  0.00  0.82 \n"
          ],
          "name": "stdout"
        }
      ]
    }
  ]
}